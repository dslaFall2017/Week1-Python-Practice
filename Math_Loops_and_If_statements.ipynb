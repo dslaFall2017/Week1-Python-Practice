{
 "cells": [
  {
   "cell_type": "markdown",
   "metadata": {},
   "source": [
    "# Introduction to Python\n",
    "\n",
    "We will learn to  \n",
    "- do simple math\n",
    "- make loops\n",
    "- use if statements"
   ]
  },
  {
   "cell_type": "code",
   "execution_count": null,
   "metadata": {
    "collapsed": true
   },
   "outputs": [],
   "source": [
    "## A smaller headline\n",
    "\n",
    "Markdown cells use Markdown format"
   ]
  },
  {
   "cell_type": "code",
   "execution_count": null,
   "metadata": {},
   "outputs": [],
   "source": [
    "# Let's do some math\n",
    "\n",
    "a = 2\n",
    "b = 4\n",
    "c = 2 * 4\n",
    "\n",
    "print(a * b)"
   ]
  },
  {
   "cell_type": "code",
   "execution_count": null,
   "metadata": {
    "collapsed": true
   },
   "outputs": [],
   "source": [
    "# Let's make a list\n",
    "\n",
    "someList = [a,b,c]\n",
    "\n",
    "# How can we see the contents of our list?"
   ]
  },
  {
   "cell_type": "code",
   "execution_count": null,
   "metadata": {
    "collapsed": true
   },
   "outputs": [],
   "source": [
    "# How long is our list?\n",
    "\n",
    "len[someList]"
   ]
  },
  {
   "cell_type": "code",
   "execution_count": null,
   "metadata": {},
   "outputs": [],
   "source": [
    "# Now let's use our list in a for loop\n",
    "\n",
    "for item in someList: \n",
    "    print(item)"
   ]
  },
  {
   "cell_type": "code",
   "execution_count": null,
   "metadata": {},
   "outputs": [],
   "source": [
    "#### When in doubt, use a list comprehension\n",
    "\n",
    "[print(item) for item in someList];"
   ]
  },
  {
   "cell_type": "code",
   "execution_count": null,
   "metadata": {},
   "outputs": [],
   "source": [
    "# Create a new cell and in it, \n",
    "# convert this loop into a list comprehension\n",
    "\n",
    "for integer in range(0,3):\n",
    "    print('I ' + 'really ' * integer + ' like Jupyter Notebooks')"
   ]
  },
  {
   "cell_type": "code",
   "execution_count": null,
   "metadata": {
    "collapsed": true
   },
   "outputs": [],
   "source": [
    "# Let's use a loop to modify a string\n",
    "\n",
    "nameL = ['Gopal', 'Shyam', 'Jagdeep']\n",
    "myString = \"I like Python\"\n",
    "for name in nameL: \n",
    "    myString = name + ', and ' + myString\n",
    "    \n",
    "myString"
   ]
  },
  {
   "cell_type": "code",
   "execution_count": null,
   "metadata": {
    "collapsed": true
   },
   "outputs": [],
   "source": [
    "# Some string manipulation using replace() function\n",
    "myString = myString.replace(\", and\",\", \")\n",
    "myString"
   ]
  },
  {
   "cell_type": "code",
   "execution_count": null,
   "metadata": {
    "collapsed": true
   },
   "outputs": [],
   "source": [
    "# Now use replace to add the \"and\" where it should go\n"
   ]
  },
  {
   "cell_type": "code",
   "execution_count": null,
   "metadata": {
    "collapsed": true
   },
   "outputs": [],
   "source": [
    "for number in someList:\n",
    "    if number > 4:\n",
    "        print(number)\n",
    "        \n",
    "# Make a new cell and see \n",
    "# if you can you turn this loop \n",
    "# into a list comprehension        "
   ]
  },
  {
   "cell_type": "code",
   "execution_count": null,
   "metadata": {},
   "outputs": [],
   "source": [
    "# Here's a similar if statement that also uses elif and else:\n",
    "\n",
    "for number in someList:\n",
    "    if number < 3:\n",
    "        print(number, 'is less than 3 ')\n",
    "    elif number >= 3 and number < 8:\n",
    "        print(number, 'is greater than or equal to 2 and less than 8')\n",
    "    else:\n",
    "        print(number, 'is greater than or equal to 8')"
   ]
  },
  {
   "cell_type": "code",
   "execution_count": null,
   "metadata": {},
   "outputs": [],
   "source": [
    "# Improve the myString loop.\n",
    "# This time, use an if statement to only add 'and' once.\n",
    "\n",
    "nameL = ['Gopal', 'Shyam', 'Jagdeep']\n",
    "myString = \"I like Python\"\n",
    "for name in nameL: \n",
    "    myString = name + ', and ' + myString\n",
    "    \n",
    "myString\n"
   ]
  },
  {
   "cell_type": "code",
   "execution_count": null,
   "metadata": {
    "collapsed": true
   },
   "outputs": [],
   "source": [
    "print(\"What's your name?\")\n",
    "name = input()"
   ]
  },
  {
   "cell_type": "code",
   "execution_count": null,
   "metadata": {
    "collapsed": true
   },
   "outputs": [],
   "source": [
    "print(name, \", how do you think you did today?\")\n",
    "grade = input()"
   ]
  },
  {
   "cell_type": "code",
   "execution_count": null,
   "metadata": {
    "collapsed": true
   },
   "outputs": [],
   "source": [
    "name = name[1].upper() + name[1:]\n",
    "grade = grade.lower() + '!'\n",
    "print( name +' did', grade)"
   ]
  }
 ],
 "metadata": {
  "kernelspec": {
   "display_name": "Python 3",
   "language": "python",
   "name": "python3"
  },
  "language_info": {
   "codemirror_mode": {
    "name": "ipython",
    "version": 3
   },
   "file_extension": ".py",
   "mimetype": "text/x-python",
   "name": "python",
   "nbconvert_exporter": "python",
   "pygments_lexer": "ipython3",
   "version": "3.5.2"
  }
 },
 "nbformat": 4,
 "nbformat_minor": 2
}
